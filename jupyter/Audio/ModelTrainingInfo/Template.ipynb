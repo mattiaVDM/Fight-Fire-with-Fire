{
 "cells": [
  {
   "cell_type": "markdown",
   "metadata": {},
   "source": [
    "Download the data - after extracting features through a processing block - so we can train a machine learning model."
   ]
  },
  {
   "cell_type": "code",
   "execution_count": null,
   "metadata": {},
   "outputs": [],
   "source": [
    "\n",
    "from keras.callbacks import History \n",
    "history = History()\n",
    "\n",
    "history = model.fit\n",
    "\n",
    "import keras\n",
    "from matplotlib import pyplot as plt\n",
    "\n",
    "loss=history.history['loss']\n",
    "loss=loss[:150]\n",
    "plt.plot(loss)\n",
    "val_loss=history.history['val_loss']\n",
    "val_loss=val_loss[:150]\n",
    "plt.plot(val_loss)\n",
    "\n",
    "plt.title('model loss')\n",
    "plt.ylabel('loss')\n",
    "plt.xlabel('epoch')\n",
    "plt.legend(['train', 'val'], loc='upper right')\n",
    "plt.show()\n",
    "\n",
    "acc=history.history['accuracy']\n",
    "acc=acc[:150]\n",
    "plt.plot(acc)\n",
    "vacc=history.history['val_accuracy']\n",
    "vacc=vacc[:150]\n",
    "plt.plot(vacc)\n",
    "plt.title('model accuracy')\n",
    "plt.ylabel('accuracy')\n",
    "plt.xlabel('epoch')\n",
    "plt.legend(['train', 'val'], loc='upper right')\n",
    "plt.show()"
   ]
  }
 ],
 "metadata": {
  "kernelspec": {
   "display_name": "Python 3 (ipykernel)",
   "language": "python",
   "name": "python3"
  },
  "language_info": {
   "codemirror_mode": {
    "name": "ipython",
    "version": 3
   },
   "file_extension": ".py",
   "mimetype": "text/x-python",
   "name": "python",
   "nbconvert_exporter": "python",
   "pygments_lexer": "ipython3",
   "version": "3.8.10"
  }
 },
 "nbformat": 4,
 "nbformat_minor": 4
}
