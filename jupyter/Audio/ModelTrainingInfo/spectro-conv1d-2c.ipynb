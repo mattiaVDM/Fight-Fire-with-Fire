{
 "cells": [
  {
   "cell_type": "markdown",
   "metadata": {},
   "source": [
    "Download the data - after extracting features through a processing block - so we can train a machine learning model."
   ]
  },
  {
   "cell_type": "code",
   "execution_count": 1,
   "metadata": {},
   "outputs": [
    {
     "name": "stderr",
     "output_type": "stream",
     "text": [
      "2022-03-15 12:24:22.890206: W tensorflow/stream_executor/platform/default/dso_loader.cc:64] Could not load dynamic library 'libcudart.so.11.0'; dlerror: libcudart.so.11.0: cannot open shared object file: No such file or directory\n",
      "2022-03-15 12:24:22.890259: I tensorflow/stream_executor/cuda/cudart_stub.cc:29] Ignore above cudart dlerror if you do not have a GPU set up on your machine.\n"
     ]
    }
   ],
   "source": [
    "import numpy as np\n",
    "import requests\n",
    "from keras.callbacks import History \n",
    "history = History()\n",
    "API_KEY = 'ei_b72f76a9bc8e9358c39a734b4d42686d322e6eb28c6d6d6cbd5085b163b63304'\n",
    "\n",
    "def download_data(url):\n",
    "    response = requests.get(url, headers={'x-api-key': API_KEY})\n",
    "    if response.status_code == 200:\n",
    "        return response.content\n",
    "    else:\n",
    "        print(response.content)\n",
    "        raise ConnectionError('Could not download data file')\n",
    "\n",
    "X = download_data('https://studio.edgeimpulse.com/v1/api/86682/training/48/x')\n",
    "Y = download_data('https://studio.edgeimpulse.com/v1/api/86682/training/48/y')\n"
   ]
  },
  {
   "cell_type": "markdown",
   "metadata": {},
   "source": [
    "Store the data in a temporary file, and load it back through Numpy."
   ]
  },
  {
   "cell_type": "code",
   "execution_count": 2,
   "metadata": {},
   "outputs": [],
   "source": [
    "with open('x_train.npy', 'wb') as file:\n",
    "    file.write(X)\n",
    "with open('y_train.npy', 'wb') as file:\n",
    "    file.write(Y)\n",
    "X = np.load('x_train.npy')\n",
    "Y = np.load('y_train.npy')[:,0]"
   ]
  },
  {
   "cell_type": "markdown",
   "metadata": {},
   "source": [
    "Define our labels and split the data up in a test and training set:"
   ]
  },
  {
   "cell_type": "code",
   "execution_count": 3,
   "metadata": {},
   "outputs": [
    {
     "name": "stderr",
     "output_type": "stream",
     "text": [
      "2022-03-15 12:24:41.489017: W tensorflow/stream_executor/platform/default/dso_loader.cc:64] Could not load dynamic library 'libcuda.so.1'; dlerror: libcuda.so.1: cannot open shared object file: No such file or directory\n",
      "2022-03-15 12:24:41.489070: W tensorflow/stream_executor/cuda/cuda_driver.cc:269] failed call to cuInit: UNKNOWN ERROR (303)\n",
      "2022-03-15 12:24:41.489105: I tensorflow/stream_executor/cuda/cuda_diagnostics.cc:156] kernel driver does not appear to be running on this host (PC-Matt): /proc/driver/nvidia/version does not exist\n",
      "2022-03-15 12:24:41.489500: I tensorflow/core/platform/cpu_feature_guard.cc:151] This TensorFlow binary is optimized with oneAPI Deep Neural Network Library (oneDNN) to use the following CPU instructions in performance-critical operations:  AVX2 FMA\n",
      "To enable them in other operations, rebuild TensorFlow with the appropriate compiler flags.\n"
     ]
    }
   ],
   "source": [
    "import sys, os, random\n",
    "import tensorflow as tf\n",
    "from sklearn.model_selection import train_test_split\n",
    "\n",
    "import logging\n",
    "tf.get_logger().setLevel(logging.ERROR)\n",
    "os.environ['TF_CPP_MIN_LOG_LEVEL'] = '2'\n",
    "\n",
    "# Set random seeds for repeatable results\n",
    "RANDOM_SEED = 3\n",
    "random.seed(RANDOM_SEED)\n",
    "np.random.seed(RANDOM_SEED)\n",
    "tf.random.set_seed(RANDOM_SEED)\n",
    "\n",
    "classes_values = [ \"Fire\", \"Noise\" ]\n",
    "classes = len(classes_values)\n",
    "\n",
    "Y = tf.keras.utils.to_categorical(Y - 1, classes)\n",
    "\n",
    "X_train, X_test, Y_train, Y_test = train_test_split(X, Y, test_size=0.2, random_state=1)\n",
    "\n",
    "input_length = X_train[0].shape[0]\n",
    "\n",
    "train_dataset = tf.data.Dataset.from_tensor_slices((X_train, Y_train))\n",
    "validation_dataset = tf.data.Dataset.from_tensor_slices((X_test, Y_test))\n",
    "\n",
    "def get_reshape_function(reshape_to):\n",
    "    def reshape(image, label):\n",
    "        return tf.reshape(image, reshape_to), label\n",
    "    return reshape\n",
    "\n",
    "callbacks = []\n"
   ]
  },
  {
   "cell_type": "markdown",
   "metadata": {},
   "source": [
    "Train the model:"
   ]
  },
  {
   "cell_type": "code",
   "execution_count": 4,
   "metadata": {},
   "outputs": [
    {
     "name": "stdout",
     "output_type": "stream",
     "text": [
      "Epoch 1/50\n",
      "111/111 - 1s - loss: 0.4474 - accuracy: 0.7819 - val_loss: 0.3000 - val_accuracy: 0.8657 - 700ms/epoch - 6ms/step\n",
      "Epoch 2/50\n",
      "111/111 - 0s - loss: 0.3088 - accuracy: 0.8718 - val_loss: 0.2564 - val_accuracy: 0.9007 - 192ms/epoch - 2ms/step\n",
      "Epoch 3/50\n",
      "111/111 - 0s - loss: 0.2759 - accuracy: 0.8898 - val_loss: 0.2300 - val_accuracy: 0.9097 - 195ms/epoch - 2ms/step\n",
      "Epoch 4/50\n",
      "111/111 - 0s - loss: 0.2437 - accuracy: 0.9071 - val_loss: 0.2166 - val_accuracy: 0.9255 - 199ms/epoch - 2ms/step\n",
      "Epoch 5/50\n",
      "111/111 - 0s - loss: 0.2182 - accuracy: 0.9130 - val_loss: 0.1836 - val_accuracy: 0.9368 - 202ms/epoch - 2ms/step\n",
      "Epoch 6/50\n",
      "111/111 - 0s - loss: 0.2235 - accuracy: 0.9164 - val_loss: 0.2020 - val_accuracy: 0.9323 - 223ms/epoch - 2ms/step\n",
      "Epoch 7/50\n",
      "111/111 - 0s - loss: 0.2050 - accuracy: 0.9257 - val_loss: 0.1731 - val_accuracy: 0.9413 - 205ms/epoch - 2ms/step\n",
      "Epoch 8/50\n",
      "111/111 - 0s - loss: 0.2169 - accuracy: 0.9155 - val_loss: 0.1871 - val_accuracy: 0.9368 - 194ms/epoch - 2ms/step\n",
      "Epoch 9/50\n",
      "111/111 - 0s - loss: 0.1832 - accuracy: 0.9325 - val_loss: 0.1649 - val_accuracy: 0.9413 - 205ms/epoch - 2ms/step\n",
      "Epoch 10/50\n",
      "111/111 - 0s - loss: 0.1925 - accuracy: 0.9260 - val_loss: 0.1922 - val_accuracy: 0.9255 - 194ms/epoch - 2ms/step\n",
      "Epoch 11/50\n",
      "111/111 - 0s - loss: 0.1891 - accuracy: 0.9266 - val_loss: 0.1806 - val_accuracy: 0.9357 - 192ms/epoch - 2ms/step\n",
      "Epoch 12/50\n",
      "111/111 - 0s - loss: 0.1730 - accuracy: 0.9345 - val_loss: 0.1766 - val_accuracy: 0.9424 - 192ms/epoch - 2ms/step\n",
      "Epoch 13/50\n",
      "111/111 - 0s - loss: 0.1752 - accuracy: 0.9333 - val_loss: 0.1693 - val_accuracy: 0.9379 - 183ms/epoch - 2ms/step\n",
      "Epoch 14/50\n",
      "111/111 - 0s - loss: 0.1754 - accuracy: 0.9308 - val_loss: 0.1688 - val_accuracy: 0.9470 - 200ms/epoch - 2ms/step\n",
      "Epoch 15/50\n",
      "111/111 - 0s - loss: 0.1692 - accuracy: 0.9339 - val_loss: 0.1557 - val_accuracy: 0.9413 - 203ms/epoch - 2ms/step\n",
      "Epoch 16/50\n",
      "111/111 - 0s - loss: 0.1614 - accuracy: 0.9384 - val_loss: 0.1626 - val_accuracy: 0.9368 - 194ms/epoch - 2ms/step\n",
      "Epoch 17/50\n",
      "111/111 - 0s - loss: 0.1622 - accuracy: 0.9364 - val_loss: 0.1765 - val_accuracy: 0.9345 - 180ms/epoch - 2ms/step\n",
      "Epoch 18/50\n",
      "111/111 - 0s - loss: 0.1557 - accuracy: 0.9404 - val_loss: 0.1671 - val_accuracy: 0.9391 - 186ms/epoch - 2ms/step\n",
      "Epoch 19/50\n",
      "111/111 - 0s - loss: 0.1608 - accuracy: 0.9395 - val_loss: 0.1609 - val_accuracy: 0.9391 - 182ms/epoch - 2ms/step\n",
      "Epoch 20/50\n",
      "111/111 - 0s - loss: 0.1711 - accuracy: 0.9364 - val_loss: 0.1900 - val_accuracy: 0.9334 - 200ms/epoch - 2ms/step\n",
      "Epoch 21/50\n",
      "111/111 - 0s - loss: 0.1623 - accuracy: 0.9395 - val_loss: 0.1580 - val_accuracy: 0.9436 - 199ms/epoch - 2ms/step\n",
      "Epoch 22/50\n",
      "111/111 - 0s - loss: 0.1595 - accuracy: 0.9429 - val_loss: 0.1760 - val_accuracy: 0.9334 - 206ms/epoch - 2ms/step\n",
      "Epoch 23/50\n",
      "111/111 - 0s - loss: 0.1431 - accuracy: 0.9435 - val_loss: 0.1538 - val_accuracy: 0.9447 - 188ms/epoch - 2ms/step\n",
      "Epoch 24/50\n",
      "111/111 - 0s - loss: 0.1454 - accuracy: 0.9463 - val_loss: 0.1534 - val_accuracy: 0.9424 - 202ms/epoch - 2ms/step\n",
      "Epoch 25/50\n",
      "111/111 - 0s - loss: 0.1561 - accuracy: 0.9390 - val_loss: 0.1641 - val_accuracy: 0.9481 - 196ms/epoch - 2ms/step\n",
      "Epoch 26/50\n",
      "111/111 - 0s - loss: 0.1399 - accuracy: 0.9452 - val_loss: 0.1485 - val_accuracy: 0.9492 - 188ms/epoch - 2ms/step\n",
      "Epoch 27/50\n",
      "111/111 - 0s - loss: 0.1479 - accuracy: 0.9449 - val_loss: 0.1595 - val_accuracy: 0.9492 - 184ms/epoch - 2ms/step\n",
      "Epoch 28/50\n",
      "111/111 - 0s - loss: 0.1559 - accuracy: 0.9412 - val_loss: 0.1728 - val_accuracy: 0.9357 - 195ms/epoch - 2ms/step\n",
      "Epoch 29/50\n",
      "111/111 - 0s - loss: 0.1394 - accuracy: 0.9480 - val_loss: 0.1516 - val_accuracy: 0.9481 - 192ms/epoch - 2ms/step\n",
      "Epoch 30/50\n",
      "111/111 - 0s - loss: 0.1677 - accuracy: 0.9395 - val_loss: 0.1689 - val_accuracy: 0.9379 - 190ms/epoch - 2ms/step\n",
      "Epoch 31/50\n",
      "111/111 - 0s - loss: 0.1453 - accuracy: 0.9469 - val_loss: 0.1632 - val_accuracy: 0.9402 - 196ms/epoch - 2ms/step\n",
      "Epoch 32/50\n",
      "111/111 - 0s - loss: 0.1458 - accuracy: 0.9480 - val_loss: 0.1874 - val_accuracy: 0.9278 - 179ms/epoch - 2ms/step\n",
      "Epoch 33/50\n",
      "111/111 - 0s - loss: 0.1285 - accuracy: 0.9525 - val_loss: 0.1531 - val_accuracy: 0.9424 - 175ms/epoch - 2ms/step\n",
      "Epoch 34/50\n",
      "111/111 - 0s - loss: 0.1395 - accuracy: 0.9452 - val_loss: 0.1619 - val_accuracy: 0.9458 - 176ms/epoch - 2ms/step\n",
      "Epoch 35/50\n",
      "111/111 - 0s - loss: 0.1330 - accuracy: 0.9492 - val_loss: 0.1586 - val_accuracy: 0.9424 - 179ms/epoch - 2ms/step\n",
      "Epoch 36/50\n",
      "111/111 - 0s - loss: 0.1345 - accuracy: 0.9486 - val_loss: 0.1610 - val_accuracy: 0.9413 - 179ms/epoch - 2ms/step\n",
      "Epoch 37/50\n",
      "111/111 - 0s - loss: 0.1301 - accuracy: 0.9523 - val_loss: 0.1600 - val_accuracy: 0.9447 - 179ms/epoch - 2ms/step\n",
      "Epoch 38/50\n",
      "111/111 - 0s - loss: 0.1336 - accuracy: 0.9497 - val_loss: 0.1672 - val_accuracy: 0.9424 - 182ms/epoch - 2ms/step\n",
      "Epoch 39/50\n",
      "111/111 - 0s - loss: 0.1376 - accuracy: 0.9497 - val_loss: 0.1674 - val_accuracy: 0.9413 - 176ms/epoch - 2ms/step\n",
      "Epoch 40/50\n",
      "111/111 - 0s - loss: 0.1275 - accuracy: 0.9511 - val_loss: 0.1506 - val_accuracy: 0.9424 - 189ms/epoch - 2ms/step\n",
      "Epoch 41/50\n",
      "111/111 - 0s - loss: 0.1272 - accuracy: 0.9534 - val_loss: 0.1670 - val_accuracy: 0.9391 - 181ms/epoch - 2ms/step\n",
      "Epoch 42/50\n",
      "111/111 - 0s - loss: 0.1215 - accuracy: 0.9511 - val_loss: 0.1793 - val_accuracy: 0.9312 - 180ms/epoch - 2ms/step\n",
      "Epoch 43/50\n",
      "111/111 - 0s - loss: 0.1322 - accuracy: 0.9472 - val_loss: 0.1549 - val_accuracy: 0.9424 - 172ms/epoch - 2ms/step\n",
      "Epoch 44/50\n",
      "111/111 - 0s - loss: 0.1265 - accuracy: 0.9511 - val_loss: 0.1682 - val_accuracy: 0.9312 - 206ms/epoch - 2ms/step\n",
      "Epoch 45/50\n",
      "111/111 - 0s - loss: 0.1228 - accuracy: 0.9520 - val_loss: 0.1693 - val_accuracy: 0.9357 - 184ms/epoch - 2ms/step\n",
      "Epoch 46/50\n",
      "111/111 - 0s - loss: 0.1312 - accuracy: 0.9525 - val_loss: 0.1592 - val_accuracy: 0.9447 - 194ms/epoch - 2ms/step\n",
      "Epoch 47/50\n",
      "111/111 - 0s - loss: 0.1237 - accuracy: 0.9537 - val_loss: 0.1479 - val_accuracy: 0.9458 - 198ms/epoch - 2ms/step\n",
      "Epoch 48/50\n",
      "111/111 - 0s - loss: 0.1350 - accuracy: 0.9500 - val_loss: 0.1546 - val_accuracy: 0.9447 - 194ms/epoch - 2ms/step\n",
      "Epoch 49/50\n",
      "111/111 - 0s - loss: 0.1213 - accuracy: 0.9537 - val_loss: 0.2046 - val_accuracy: 0.9289 - 191ms/epoch - 2ms/step\n",
      "Epoch 50/50\n",
      "111/111 - 0s - loss: 0.1367 - accuracy: 0.9486 - val_loss: 0.1661 - val_accuracy: 0.9357 - 185ms/epoch - 2ms/step\n"
     ]
    }
   ],
   "source": [
    "import tensorflow as tf\n",
    "from tensorflow.keras.models import Sequential\n",
    "from tensorflow.keras.layers import Dense, InputLayer, Dropout, Conv1D, Conv2D, Flatten, Reshape, MaxPooling1D, MaxPooling2D, BatchNormalization, TimeDistributed\n",
    "from tensorflow.keras.optimizers import Adam\n",
    "\n",
    "# model architecture\n",
    "model = Sequential()\n",
    "model.add(Reshape((int(input_length / 65), 65), input_shape=(input_length, )))\n",
    "model.add(Conv1D(8, kernel_size=3, activation='relu', padding='same'))\n",
    "model.add(MaxPooling1D(pool_size=2, strides=2, padding='same'))\n",
    "model.add(Dropout(0.3))\n",
    "model.add(Conv1D(16, kernel_size=3, activation='relu', padding='same'))\n",
    "model.add(MaxPooling1D(pool_size=2, strides=2, padding='same'))\n",
    "model.add(Dropout(0.3))\n",
    "model.add(Flatten())\n",
    "model.add(Dense(classes, activation='softmax', name='y_pred'))\n",
    "\n",
    "# this controls the learning rate\n",
    "opt = Adam(learning_rate=0.005, beta_1=0.9, beta_2=0.999)\n",
    "# this controls the batch size, or you can manipulate the tf.data.Dataset objects yourself\n",
    "BATCH_SIZE = 32\n",
    "train_dataset = train_dataset.batch(BATCH_SIZE, drop_remainder=False)\n",
    "validation_dataset = validation_dataset.batch(BATCH_SIZE, drop_remainder=False)\n",
    "\n",
    "# train the neural network\n",
    "model.compile(loss='categorical_crossentropy', optimizer=opt, metrics=['accuracy'])\n",
    "history = model.fit(train_dataset, epochs=50, validation_data=validation_dataset, verbose=2, callbacks=callbacks)\n",
    "\n",
    "# Use this flag to disable per-channel quantization for a model.\n",
    "# This can reduce RAM usage for convolutional models, but may have\n",
    "# an impact on accuracy.\n",
    "disable_per_channel_quantization = False\n"
   ]
  },
  {
   "cell_type": "code",
   "execution_count": 5,
   "metadata": {},
   "outputs": [
    {
     "data": {
      "image/png": "[encoded data removed]",
      "text/plain": [
       "<Figure size 432x288 with 1 Axes>"
      ]
     },
     "metadata": {
      "needs_background": "light"
     },
     "output_type": "display_data"
    },
    {
     "data": {
      "image/png": "[encoded data removed]",
      "text/plain": [
       "<Figure size 432x288 with 1 Axes>"
      ]
     },
     "metadata": {
      "needs_background": "light"
     },
     "output_type": "display_data"
    }
   ],
   "source": [
    "import keras\n",
    "from matplotlib import pyplot as plt\n",
    "\n",
    "loss=history.history['loss']\n",
    "loss=loss[:30]\n",
    "plt.plot(loss)\n",
    "val_loss=history.history['val_loss']\n",
    "val_loss=val_loss[:30]\n",
    "plt.plot(val_loss)\n",
    "\n",
    "\n",
    "\n",
    "plt.title('model loss')\n",
    "plt.ylabel('loss')\n",
    "plt.xlabel('epoch')\n",
    "plt.legend(['train', 'val'], loc='upper right')\n",
    "plt.show()\n",
    "\n",
    "acc=history.history['accuracy']\n",
    "acc=acc[:30]\n",
    "plt.plot(acc)\n",
    "vacc=history.history['val_accuracy']\n",
    "vacc=vacc[:30]\n",
    "plt.plot(vacc)\n",
    "plt.title('model accuracy')\n",
    "plt.ylabel('accuracy')\n",
    "plt.xlabel('epoch')\n",
    "plt.legend(['train', 'val'], loc='upper right')\n",
    "plt.show()"
   ]
  },
  {
   "cell_type": "code",
   "execution_count": null,
   "metadata": {},
   "outputs": [],
   "source": []
  }
 ],
 "metadata": {
  "kernelspec": {
   "display_name": "Python 3 (ipykernel)",
   "language": "python",
   "name": "python3"
  },
  "language_info": {
   "codemirror_mode": {
    "name": "ipython",
    "version": 3
   },
   "file_extension": ".py",
   "mimetype": "text/x-python",
   "name": "python",
   "nbconvert_exporter": "python",
   "pygments_lexer": "ipython3",
   "version": "3.8.10"
  }
 },
 "nbformat": 4,
 "nbformat_minor": 4
}
