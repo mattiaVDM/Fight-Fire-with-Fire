{
 "cells": [
  {
   "cell_type": "markdown",
   "metadata": {},
   "source": [
    "Download the data - after extracting features through a processing block - so we can train a machine learning model."
   ]
  },
  {
   "cell_type": "code",
   "execution_count": 1,
   "metadata": {},
   "outputs": [
    {
     "name": "stderr",
     "output_type": "stream",
     "text": [
      "2022-04-11 09:40:39.761933: W tensorflow/stream_executor/platform/default/dso_loader.cc:64] Could not load dynamic library 'libcudart.so.11.0'; dlerror: libcudart.so.11.0: cannot open shared object file: No such file or directory\n",
      "2022-04-11 09:40:39.762048: I tensorflow/stream_executor/cuda/cudart_stub.cc:29] Ignore above cudart dlerror if you do not have a GPU set up on your machine.\n"
     ]
    }
   ],
   "source": [
    "import numpy as np\n",
    "import requests\n",
    "from keras.callbacks import History \n",
    "history = History()\n",
    "\n",
    "API_KEY = 'ei_93396b8ba0c6af98fbeaf2f8483d323b1b6f7de866f76527b07f66d584dc79bd'\n",
    "\n",
    "def download_data(url):\n",
    "    response = requests.get(url, headers={'x-api-key': API_KEY})\n",
    "    if response.status_code == 200:\n",
    "        return response.content\n",
    "    else:\n",
    "        print(response.content)\n",
    "        raise ConnectionError('Could not download data file')\n",
    "\n",
    "X = download_data('https://studio.edgeimpulse.com/v1/api/92758/training/8/x')\n",
    "Y = download_data('https://studio.edgeimpulse.com/v1/api/92758/training/8/y')\n"
   ]
  },
  {
   "cell_type": "markdown",
   "metadata": {},
   "source": [
    "Store the data in a temporary file, and load it back through Numpy."
   ]
  },
  {
   "cell_type": "code",
   "execution_count": 2,
   "metadata": {},
   "outputs": [],
   "source": [
    "with open('x_train.npy', 'wb') as file:\n",
    "    file.write(X)\n",
    "with open('y_train.npy', 'wb') as file:\n",
    "    file.write(Y)\n",
    "X = np.load('x_train.npy')\n",
    "Y = np.load('y_train.npy')[:,0]"
   ]
  },
  {
   "cell_type": "markdown",
   "metadata": {},
   "source": [
    "Define our labels and split the data up in a test and training set:"
   ]
  },
  {
   "cell_type": "code",
   "execution_count": 3,
   "metadata": {},
   "outputs": [
    {
     "name": "stderr",
     "output_type": "stream",
     "text": [
      "2022-04-11 09:41:42.878736: W tensorflow/stream_executor/platform/default/dso_loader.cc:64] Could not load dynamic library 'libcuda.so.1'; dlerror: libcuda.so.1: cannot open shared object file: No such file or directory\n",
      "2022-04-11 09:41:42.879542: W tensorflow/stream_executor/cuda/cuda_driver.cc:269] failed call to cuInit: UNKNOWN ERROR (303)\n",
      "2022-04-11 09:41:42.879670: I tensorflow/stream_executor/cuda/cuda_diagnostics.cc:156] kernel driver does not appear to be running on this host (LAPTOP-723B7MAA): /proc/driver/nvidia/version does not exist\n",
      "2022-04-11 09:41:42.886858: I tensorflow/core/platform/cpu_feature_guard.cc:151] This TensorFlow binary is optimized with oneAPI Deep Neural Network Library (oneDNN) to use the following CPU instructions in performance-critical operations:  AVX2 FMA\n",
      "To enable them in other operations, rebuild TensorFlow with the appropriate compiler flags.\n"
     ]
    }
   ],
   "source": [
    "import sys, os, random\n",
    "import tensorflow as tf\n",
    "from sklearn.model_selection import train_test_split\n",
    "\n",
    "import logging\n",
    "tf.get_logger().setLevel(logging.ERROR)\n",
    "os.environ['TF_CPP_MIN_LOG_LEVEL'] = '2'\n",
    "\n",
    "# Set random seeds for repeatable results\n",
    "RANDOM_SEED = 3\n",
    "random.seed(RANDOM_SEED)\n",
    "np.random.seed(RANDOM_SEED)\n",
    "tf.random.set_seed(RANDOM_SEED)\n",
    "\n",
    "classes_values = [ \"Fire\", \"Safe\" ]\n",
    "classes = len(classes_values)\n",
    "\n",
    "Y = tf.keras.utils.to_categorical(Y - 1, classes)\n",
    "\n",
    "X_train, X_test, Y_train, Y_test = train_test_split(X, Y, test_size=0.2, random_state=1)\n",
    "\n",
    "input_length = X_train[0].shape[0]\n",
    "\n",
    "train_dataset = tf.data.Dataset.from_tensor_slices((X_train, Y_train))\n",
    "validation_dataset = tf.data.Dataset.from_tensor_slices((X_test, Y_test))\n",
    "\n",
    "def get_reshape_function(reshape_to):\n",
    "    def reshape(image, label):\n",
    "        return tf.reshape(image, reshape_to), label\n",
    "    return reshape\n",
    "\n",
    "callbacks = []\n"
   ]
  },
  {
   "cell_type": "markdown",
   "metadata": {},
   "source": [
    "Train the model:"
   ]
  },
  {
   "cell_type": "code",
   "execution_count": 4,
   "metadata": {},
   "outputs": [
    {
     "name": "stdout",
     "output_type": "stream",
     "text": [
      "Epoch 1/20\n",
      "83/83 - 12s - loss: 0.4165 - accuracy: 0.8096 - val_loss: 0.3046 - val_accuracy: 0.8803 - 12s/epoch - 143ms/step\n",
      "Epoch 2/20\n",
      "83/83 - 5s - loss: 0.2520 - accuracy: 0.8999 - val_loss: 0.2676 - val_accuracy: 0.8879 - 5s/epoch - 65ms/step\n",
      "Epoch 3/20\n",
      "83/83 - 6s - loss: 0.2121 - accuracy: 0.9185 - val_loss: 0.2589 - val_accuracy: 0.8955 - 6s/epoch - 75ms/step\n",
      "Epoch 4/20\n",
      "83/83 - 5s - loss: 0.1835 - accuracy: 0.9291 - val_loss: 0.2507 - val_accuracy: 0.9045 - 5s/epoch - 66ms/step\n",
      "Epoch 5/20\n",
      "83/83 - 5s - loss: 0.1655 - accuracy: 0.9352 - val_loss: 0.2534 - val_accuracy: 0.9030 - 5s/epoch - 59ms/step\n",
      "Epoch 6/20\n",
      "83/83 - 5s - loss: 0.1515 - accuracy: 0.9424 - val_loss: 0.2454 - val_accuracy: 0.9091 - 5s/epoch - 59ms/step\n",
      "Epoch 7/20\n",
      "83/83 - 5s - loss: 0.1426 - accuracy: 0.9484 - val_loss: 0.2386 - val_accuracy: 0.9076 - 5s/epoch - 61ms/step\n",
      "Epoch 8/20\n",
      "83/83 - 6s - loss: 0.1225 - accuracy: 0.9545 - val_loss: 0.2416 - val_accuracy: 0.9121 - 6s/epoch - 72ms/step\n",
      "Epoch 9/20\n",
      "83/83 - 8s - loss: 0.1117 - accuracy: 0.9579 - val_loss: 0.2452 - val_accuracy: 0.9167 - 8s/epoch - 98ms/step\n",
      "Epoch 10/20\n",
      "83/83 - 6s - loss: 0.1154 - accuracy: 0.9556 - val_loss: 0.2546 - val_accuracy: 0.9136 - 6s/epoch - 73ms/step\n",
      "Epoch 11/20\n",
      "83/83 - 5s - loss: 0.0979 - accuracy: 0.9651 - val_loss: 0.2435 - val_accuracy: 0.9152 - 5s/epoch - 66ms/step\n",
      "Epoch 12/20\n",
      "83/83 - 5s - loss: 0.0904 - accuracy: 0.9644 - val_loss: 0.2526 - val_accuracy: 0.9182 - 5s/epoch - 66ms/step\n",
      "Epoch 13/20\n",
      "83/83 - 7s - loss: 0.0755 - accuracy: 0.9727 - val_loss: 0.2507 - val_accuracy: 0.9212 - 7s/epoch - 81ms/step\n",
      "Epoch 14/20\n",
      "83/83 - 6s - loss: 0.0753 - accuracy: 0.9735 - val_loss: 0.2709 - val_accuracy: 0.9182 - 6s/epoch - 77ms/step\n",
      "Epoch 15/20\n",
      "83/83 - 6s - loss: 0.0689 - accuracy: 0.9788 - val_loss: 0.2656 - val_accuracy: 0.9242 - 6s/epoch - 72ms/step\n",
      "Epoch 16/20\n",
      "83/83 - 6s - loss: 0.0681 - accuracy: 0.9731 - val_loss: 0.2791 - val_accuracy: 0.9197 - 6s/epoch - 68ms/step\n",
      "Epoch 17/20\n",
      "83/83 - 5s - loss: 0.0588 - accuracy: 0.9803 - val_loss: 0.2731 - val_accuracy: 0.9273 - 5s/epoch - 66ms/step\n",
      "Epoch 18/20\n",
      "83/83 - 5s - loss: 0.0533 - accuracy: 0.9818 - val_loss: 0.2751 - val_accuracy: 0.9258 - 5s/epoch - 63ms/step\n",
      "Epoch 19/20\n",
      "83/83 - 5s - loss: 0.0470 - accuracy: 0.9875 - val_loss: 0.2853 - val_accuracy: 0.9288 - 5s/epoch - 66ms/step\n",
      "Epoch 20/20\n",
      "83/83 - 6s - loss: 0.0490 - accuracy: 0.9863 - val_loss: 0.2954 - val_accuracy: 0.9318 - 6s/epoch - 69ms/step\n",
      "\n",
      "Initial training done.\n",
      "Fine-tuning model for 10 epochs...\n",
      "Epoch 1/10\n",
      "83/83 - 9s - loss: 0.0390 - accuracy: 0.9890 - val_loss: 0.2959 - val_accuracy: 0.9318 - 9s/epoch - 114ms/step\n",
      "Epoch 2/10\n",
      "83/83 - 5s - loss: 0.0345 - accuracy: 0.9917 - val_loss: 0.2968 - val_accuracy: 0.9318 - 5s/epoch - 64ms/step\n",
      "Epoch 3/10\n",
      "83/83 - 5s - loss: 0.0383 - accuracy: 0.9905 - val_loss: 0.2974 - val_accuracy: 0.9318 - 5s/epoch - 66ms/step\n",
      "Epoch 4/10\n",
      "83/83 - 6s - loss: 0.0357 - accuracy: 0.9898 - val_loss: 0.2977 - val_accuracy: 0.9318 - 6s/epoch - 66ms/step\n",
      "Epoch 5/10\n",
      "83/83 - 6s - loss: 0.0351 - accuracy: 0.9905 - val_loss: 0.2987 - val_accuracy: 0.9303 - 6s/epoch - 68ms/step\n",
      "Epoch 6/10\n",
      "83/83 - 6s - loss: 0.0349 - accuracy: 0.9909 - val_loss: 0.2989 - val_accuracy: 0.9318 - 6s/epoch - 70ms/step\n",
      "Epoch 7/10\n",
      "83/83 - 5s - loss: 0.0389 - accuracy: 0.9871 - val_loss: 0.2993 - val_accuracy: 0.9318 - 5s/epoch - 65ms/step\n",
      "Epoch 8/10\n",
      "83/83 - 5s - loss: 0.0358 - accuracy: 0.9898 - val_loss: 0.2998 - val_accuracy: 0.9333 - 5s/epoch - 66ms/step\n",
      "Epoch 9/10\n",
      "83/83 - 5s - loss: 0.0386 - accuracy: 0.9879 - val_loss: 0.2998 - val_accuracy: 0.9318 - 5s/epoch - 65ms/step\n",
      "Epoch 10/10\n",
      "83/83 - 6s - loss: 0.0391 - accuracy: 0.9894 - val_loss: 0.3003 - val_accuracy: 0.9333 - 6s/epoch - 69ms/step\n"
     ]
    },
    {
     "data": {
      "text/plain": [
       "<keras.callbacks.History at 0x7f98a5f82250>"
      ]
     },
     "execution_count": 4,
     "metadata": {},
     "output_type": "execute_result"
    }
   ],
   "source": [
    "import math\n",
    "from pathlib import Path\n",
    "import tensorflow as tf\n",
    "from tensorflow.keras import Model\n",
    "from tensorflow.keras.models import Sequential\n",
    "from tensorflow.keras.layers import Dense, InputLayer, Dropout, Conv1D, Flatten, Reshape, MaxPooling1D, BatchNormalization, Conv2D, GlobalMaxPooling2D, Lambda\n",
    "from tensorflow.keras.optimizers import Adam, Adadelta\n",
    "from tensorflow.keras.losses import categorical_crossentropy\n",
    "\n",
    "\n",
    "WEIGHTS_PATH = './transfer-learning-weights/edgeimpulse/MobileNetV2.0_35.96x96.grayscale.bsize_64.lr_0_005.epoch_260.val_loss_3.10.val_accuracy_0.35.hdf5'\n",
    "# Download the model weights\n",
    "root_url = 'http://cdn.edgeimpulse.com/'\n",
    "p = Path(WEIGHTS_PATH)\n",
    "if not p.exists():\n",
    "    if not p.parent.exists():\n",
    "        p.parent.mkdir(parents=True)\n",
    "    weights = requests.get(root_url + WEIGHTS_PATH[2:]).content\n",
    "    with open(WEIGHTS_PATH, 'wb') as f:\n",
    "        f.write(weights)\n",
    "\n",
    "INPUT_SHAPE = (96, 96, 1)\n",
    "\n",
    "\n",
    "base_model = tf.keras.applications.MobileNetV2(\n",
    "    input_shape = INPUT_SHAPE, alpha=0.35,\n",
    "    weights = WEIGHTS_PATH\n",
    ")\n",
    "\n",
    "base_model.trainable = False\n",
    "\n",
    "model = Sequential()\n",
    "model.add(InputLayer(input_shape=INPUT_SHAPE, name='x_input'))\n",
    "# Don't include the base model's top layers\n",
    "last_layer_index = -3\n",
    "model.add(Model(inputs=base_model.inputs, outputs=base_model.layers[last_layer_index].output))\n",
    "model.add(Reshape((-1, model.layers[-1].output.shape[3])))\n",
    "model.add(Dense(16, activation='relu'))\n",
    "model.add(Dropout(0.25))\n",
    "model.add(Flatten())\n",
    "model.add(Dense(classes, activation='softmax'))\n",
    "\n",
    "model.compile(optimizer=tf.keras.optimizers.Adam(learning_rate=0.0005),\n",
    "                loss='categorical_crossentropy',\n",
    "                metrics=['accuracy'])\n",
    "\n",
    "\n",
    "# Set the data to the expected input shape\n",
    "train_dataset = train_dataset.map(get_reshape_function(INPUT_SHAPE), tf.data.experimental.AUTOTUNE)\n",
    "validation_dataset = validation_dataset.map(get_reshape_function(INPUT_SHAPE), tf.data.experimental.AUTOTUNE)\n",
    "\n",
    "\n",
    "BATCH_SIZE = 32\n",
    "train_dataset = train_dataset.batch(BATCH_SIZE, drop_remainder=False)\n",
    "validation_dataset = validation_dataset.batch(BATCH_SIZE, drop_remainder=False)\n",
    "\n",
    "history = model.fit(train_dataset, validation_data=validation_dataset, epochs=20, verbose=2, callbacks=callbacks)\n",
    "\n",
    "print('')\n",
    "print('Initial training done.', flush=True)\n",
    "\n",
    "# How many epochs we will fine tune the model\n",
    "FINE_TUNE_EPOCHS = 10\n",
    "# What percentage of the base model's layers we will fine tune\n",
    "FINE_TUNE_PERCENTAGE = 65\n",
    "\n",
    "print('Fine-tuning model for {} epochs...'.format(FINE_TUNE_EPOCHS), flush=True)\n",
    "\n",
    "# Determine which layer to begin fine tuning at\n",
    "model_layer_count = len(model.layers)\n",
    "fine_tune_from = math.ceil(model_layer_count * ((100 - FINE_TUNE_PERCENTAGE) / 100))\n",
    "\n",
    "# Allow the entire base model to be trained\n",
    "model.trainable = True\n",
    "# Freeze all the layers before the 'fine_tune_from' layer\n",
    "for layer in model.layers[:fine_tune_from]:\n",
    "    layer.trainable = False\n",
    "\n",
    "model.compile(optimizer=tf.keras.optimizers.Adam(learning_rate=0.000045),\n",
    "                loss='categorical_crossentropy',\n",
    "                metrics=['accuracy'])\n",
    "\n",
    "model.fit(train_dataset,\n",
    "                epochs=FINE_TUNE_EPOCHS,\n",
    "                verbose=2,\n",
    "                validation_data=validation_dataset,\n",
    "                callbacks=callbacks,\n",
    "                class_weight=None\n",
    "            )\n"
   ]
  },
  {
   "cell_type": "code",
   "execution_count": 5,
   "metadata": {},
   "outputs": [
    {
     "name": "stderr",
     "output_type": "stream",
     "text": [
      "2022-04-11 09:45:12.978634: W tensorflow/python/util/util.cc:368] Sets are not currently considered sequences, but this may change in the future, so consider avoiding using them.\n"
     ]
    }
   ],
   "source": [
    "# Save the model to disk\n",
    "model.save('saved_model')"
   ]
  },
  {
   "cell_type": "code",
   "execution_count": 6,
   "metadata": {},
   "outputs": [
    {
     "data": {
      "image/png": "[encoded data removed]",
      "text/plain": [
       "<Figure size 432x288 with 1 Axes>"
      ]
     },
     "metadata": {
      "needs_background": "light"
     },
     "output_type": "display_data"
    },
    {
     "data": {
      "image/png": "[encoded data removed]",
      "text/plain": [
       "<Figure size 432x288 with 1 Axes>"
      ]
     },
     "metadata": {
      "needs_background": "light"
     },
     "output_type": "display_data"
    }
   ],
   "source": [
    "import keras\n",
    "from matplotlib import pyplot as plt\n",
    "\n",
    "loss=history.history['loss']\n",
    "loss=loss[:20]\n",
    "plt.plot(loss)\n",
    "val_loss=history.history['val_loss']\n",
    "val_loss=val_loss[:20]\n",
    "plt.plot(val_loss)\n",
    "\n",
    "\n",
    "\n",
    "plt.title('model loss')\n",
    "plt.ylabel('loss')\n",
    "plt.xlabel('epoch')\n",
    "plt.legend(['train', 'val'], loc='upper right')\n",
    "plt.show()\n",
    "\n",
    "acc=history.history['accuracy']\n",
    "acc=acc[:20]\n",
    "plt.plot(acc)\n",
    "vacc=history.history['val_accuracy']\n",
    "vacc=vacc[:20]\n",
    "plt.plot(vacc)\n",
    "plt.title('model accuracy')\n",
    "plt.ylabel('accuracy')\n",
    "plt.xlabel('epoch')\n",
    "plt.legend(['train', 'val'], loc='upper right')\n",
    "plt.show()"
   ]
  },
  {
   "cell_type": "code",
   "execution_count": null,
   "metadata": {},
   "outputs": [],
   "source": []
  }
 ],
 "metadata": {
  "kernelspec": {
   "display_name": "Python 3 (ipykernel)",
   "language": "python",
   "name": "python3"
  },
  "language_info": {
   "codemirror_mode": {
    "name": "ipython",
    "version": 3
   },
   "file_extension": ".py",
   "mimetype": "text/x-python",
   "name": "python",
   "nbconvert_exporter": "python",
   "pygments_lexer": "ipython3",
   "version": "3.8.10"
  }
 },
 "nbformat": 4,
 "nbformat_minor": 4
}
